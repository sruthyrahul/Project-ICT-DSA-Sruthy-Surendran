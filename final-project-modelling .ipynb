{
 "cells": [
  {
   "cell_type": "markdown",
   "id": "7574e426-fd18-4a04-a126-3f16993d57ca",
   "metadata": {
    "tags": []
   },
   "source": [
    "# <div align=\"center\"><ins>Project on Predictive Data Modeling with Portugal 2019 Election Data</ins></div>"
   ]
  },
  {
   "cell_type": "markdown",
   "id": "2eea966f-b5c1-4b26-b427-3419f1bd34aa",
   "metadata": {},
   "source": [
    "<div align=\"center\"><img src=\"election-img.jpg\" width = 100%/></div>"
   ]
  },
  {
   "cell_type": "markdown",
   "id": "2ecfbcaa-70e3-442f-b2da-7c92853c9e87",
   "metadata": {},
   "source": [
    "***\n",
    "**NORKA B5, Group 3**<br>\n",
    "**Team Members:** *Sruthy Surendran, Heleena Joy, Jebitta Joseph, Gopikrishna Shyam Kumar, Sreehari P S*\n",
    "***"
   ]
  },
  {
   "cell_type": "markdown",
   "id": "dbacff8b-795d-422a-a97e-ceebb2ae127a",
   "metadata": {},
   "source": [
    "### <div align=\"center\"> About the Dataset </div>\n",
    "***"
   ]
  },
  {
   "cell_type": "markdown",
   "id": "430bf06d-110c-4170-b0a2-e2d860ffc79d",
   "metadata": {},
   "source": [
    "Dataset used in this project describes the evolution of results in the Portuguese Parliamentary Elections of October 6th 2019. The data spans a time interval of 4 hours and 25 minutes, in intervals of 5 minutes, concerning the results of the 21 parties involved in the electoral event. Overall, the dataset contains 21643 records over 28 features (including the target variable). This dataset is a combination of data concerning the overall election and the party voting information which are joined w.r.t the timestamp of data acquisition and the respective district.<br><br>\n",
    "**Election data columns** = *{'TimeElapsed', 'time', 'territoryName', 'totalMandates', 'availableMandates', 'numParishes', 'numParishesApproved', 'blankVotes', 'blankVotesPercentage', 'nullVotes', 'nullVotesPercentage', 'votersPercentage', 'subscribedVoters', 'totalVoters', 'pre.blankVotes', 'pre.blankVotesPercentage', 'pre.nullVotes', 'pre.nullVotesPercentage', 'pre.votersPercentage', 'pre.subscribedVoters', 'pre.totalVoters'}*<br>\n",
    "**Party data columns** = *{'Party', 'Mandates', 'Percentage', 'validVotesPercentage', 'Votes'}*\n",
    "<br>**Column Description:**"
   ]
  },
  {
   "cell_type": "markdown",
   "id": "7b199528-bc12-4387-86a4-b78c4e573d1e",
   "metadata": {},
   "source": [
    "|Sno|Column|Type|Description|\n",
    "|:-|:-|:-|:-|\n",
    "|1|TimeElapsed |numeric|Time (minutes) passed since the first data acquisition|\n",
    "|2|time|timestamp|Date and time of the data acquisition|\n",
    "|3|territoryName|string|Short name of the location (district or nation-wide)|\n",
    "|4|totalMandates|numeric|MP's elected at the moment|\n",
    "|5|availableMandates|numeric|MP's left to elect at the moment|\n",
    "|6|numParishes|numeric|Total number of parishes in this location|\n",
    "|7|numParishesApproved|numeric|Number of parishes approved in this location|\n",
    "|8|blankVotes|numeric|Number of blank votes (NOTA)|\n",
    "|9|blankVotesPercentage|numeric|Percentage of blank votes|\n",
    "|10|nullVotes|numeric|Number of null votes (Incorrect Info)|\n",
    "|11|nullVotesPercentage|numeric|Percentage of null votes|\n",
    "|12|votersPercentage|numeric|Percentage of voters|\n",
    "|13|subscribedVoters|numeric| Number of subscribed voters in the location|\n",
    "|14|totalVoters|numeric|Number of votes cast|\n",
    "|15|pre.blankVotes|numeric|Number of blank votes (previous election)|\n",
    "|16|pre.blankVotesPercentage|numeric|Percentage of blank votes (previous election)|\n",
    "|17|pre.nullVotes|numeric|Number of null votes (previous election)|\n",
    "|18|pre.nullVotesPercentage|numeric|Percentage of null votes (previous election)|\n",
    "|19|pre.votersPercentage|numeric|Percentage of voters (previous election)|\n",
    "|20|pre.subscribedVoters|numeric|Number of subscribed voters in the location (previous election)|\n",
    "|21|pre.totalVoters|numeric|Number of votes cast (previous election)|\n",
    "|22|Party|string|Political Party|\n",
    "|23|Mandates|numeric|MP's elected at the moment for the party in a given district|\n",
    "|24|Percentage|numeric|Percentage of votes in a party|\n",
    "|25|validVotesPercentage|numeric|Percentage of valid votes in a party|\n",
    "|26|Votes|numeric|Party votes|\n",
    "|27|Hondt|numeric|Number of MP's according to the distribution of votes now|\n",
    "|28|FinalMandates|numeric (Target)|Final number of elected MP's in a territory for a Party|"
   ]
  },
  {
   "cell_type": "markdown",
   "id": "fe0f77af-4089-4375-b188-7ef02308a5b5",
   "metadata": {},
   "source": [
    "*Courtesy:*\n",
    "1. https://archive.ics.uci.edu/ml/datasets/Real-time+Election+Results%3A+Portugal+2019\n",
    "2. https://www.analyticsvidhya.com/"
   ]
  },
  {
   "cell_type": "markdown",
   "id": "5462e033-7ba6-4c5e-a25a-0ba620450842",
   "metadata": {},
   "source": [
    "### About Portugal\n",
    ">1. Portugal has 20 districts, out of which 2 are autonomous.\n",
    "2. There are 21 parties which participates in election across districts of portugal.\n",
    "3. \"Território Nacional\" refers to portugal as a nation, not a serparate district as others. \"Madeira and Açores\" are Autonomous regions in Portugal"
   ]
  },
  {
   "cell_type": "markdown",
   "id": "104b1d27-bd9c-4dcf-be51-5fbecd20103a",
   "metadata": {},
   "source": [
    "### Problem Statement\n",
    ">To apply regression modelling to predict total number of MPs elected from a party under a given region."
   ]
  },
  {
   "cell_type": "markdown",
   "id": "5d78eab5-63a1-40ed-afe5-873d20a896f3",
   "metadata": {},
   "source": [
    "***\n",
    "### <div align=\"center\"> Python Environment Setup </div>\n",
    "***"
   ]
  },
  {
   "cell_type": "code",
   "execution_count": 29,
   "id": "3e540db4-849e-4b66-a693-79488eb813e5",
   "metadata": {},
   "outputs": [],
   "source": [
    "import warnings\n",
    "import numpy as np\n",
    "import pandas as pd\n",
    "import matplotlib.pyplot as plt\n",
    "import seaborn as sns\n",
    "\n",
    "from sklearn.model_selection import train_test_split\n",
    "from sklearn.metrics import mean_squared_error, r2_score, mean_absolute_error, max_error\n",
    "from sklearn.model_selection import RandomizedSearchCV\n",
    "from sklearn.linear_model import LinearRegression, Lasso, Ridge\n",
    "from sklearn.ensemble import AdaBoostRegressor, RandomForestRegressor\n",
    "from sklearn.tree import DecisionTreeRegressor\n",
    "from xgboost import XGBRegressor\n",
    "from catboost import CatBoostRegressor\n",
    "from sklearn.svm import SVR\n",
    "from sklearn.neighbors import KNeighborsRegressor\n",
    "\n",
    "warnings.filterwarnings(\"ignore\")\n",
    "pd.set_option(\"display.max_columns\", None)"
   ]
  },
  {
   "cell_type": "markdown",
   "id": "ad25a7a9-d608-4e1a-a293-9b779f2d66ff",
   "metadata": {},
   "source": [
    "***\n",
    "### <div align=\"center\"> Basic Analysis </div>\n",
    "***"
   ]
  },
  {
   "cell_type": "code",
   "execution_count": 2,
   "id": "4c393657-83b3-4b28-998c-610aa7844ceb",
   "metadata": {},
   "outputs": [],
   "source": [
    "# Load the dataset to pandas dataframe\n",
    "ucdata = pd.read_csv(\"Portugal_Election_Data.csv\")"
   ]
  },
  {
   "cell_type": "code",
   "execution_count": 3,
   "id": "f342856d-67c9-4a32-91bb-54256e0f4a32",
   "metadata": {},
   "outputs": [
    {
     "name": "stdout",
     "output_type": "stream",
     "text": [
      "Shape of uncleaned election dataset is (21643, 28)\n"
     ]
    }
   ],
   "source": [
    "print(f\"Shape of uncleaned election dataset is {ucdata.shape}\")"
   ]
  },
  {
   "cell_type": "code",
   "execution_count": 4,
   "id": "e6064817-15c1-4f43-b84b-b898554112cf",
   "metadata": {},
   "outputs": [
    {
     "name": "stdout",
     "output_type": "stream",
     "text": [
      "Columns in uncleaned election dataset are::\n",
      " ['TimeElapsed' 'time' 'territoryName' 'totalMandates' 'availableMandates'\n",
      " 'numParishes' 'numParishesApproved' 'blankVotes' 'blankVotesPercentage'\n",
      " 'nullVotes' 'nullVotesPercentage' 'votersPercentage' 'subscribedVoters'\n",
      " 'totalVoters' 'pre.blankVotes' 'pre.blankVotesPercentage' 'pre.nullVotes'\n",
      " 'pre.nullVotesPercentage' 'pre.votersPercentage' 'pre.subscribedVoters'\n",
      " 'pre.totalVoters' 'Party' 'Mandates' 'Percentage' 'validVotesPercentage'\n",
      " 'Votes' 'Hondt' 'FinalMandates']\n"
     ]
    }
   ],
   "source": [
    "print(f\"Columns in uncleaned election dataset are::\\n {ucdata.columns.values}\")"
   ]
  },
  {
   "cell_type": "markdown",
   "id": "b7009c4c-aa93-433c-a735-3cba04e73dba",
   "metadata": {
    "tags": []
   },
   "source": [
    "***\n",
    "### <div align=\"center\"> Modeling</div>\n",
    "***"
   ]
  },
  {
   "cell_type": "code",
   "execution_count": 5,
   "id": "5525cde7-d2f7-4939-aba6-f523a5cc821e",
   "metadata": {},
   "outputs": [],
   "source": [
    "data = pd.read_csv('Processed_Portugal_Election_Data.csv')"
   ]
  },
  {
   "cell_type": "code",
   "execution_count": 6,
   "id": "5d656c70-e6ee-45d6-ade4-8ef92643c645",
   "metadata": {},
   "outputs": [
    {
     "data": {
      "text/html": [
       "<div>\n",
       "<style scoped>\n",
       "    .dataframe tbody tr th:only-of-type {\n",
       "        vertical-align: middle;\n",
       "    }\n",
       "\n",
       "    .dataframe tbody tr th {\n",
       "        vertical-align: top;\n",
       "    }\n",
       "\n",
       "    .dataframe thead th {\n",
       "        text-align: right;\n",
       "    }\n",
       "</style>\n",
       "<table border=\"1\" class=\"dataframe\">\n",
       "  <thead>\n",
       "    <tr style=\"text-align: right;\">\n",
       "      <th></th>\n",
       "      <th>territoryName</th>\n",
       "      <th>totalMandates</th>\n",
       "      <th>availableMandates</th>\n",
       "      <th>numParishes</th>\n",
       "      <th>numParishesApproved</th>\n",
       "      <th>votersPercentage</th>\n",
       "      <th>pre.votersPercentage</th>\n",
       "      <th>Party</th>\n",
       "      <th>Mandates</th>\n",
       "      <th>validVotesPercentage</th>\n",
       "      <th>Votes</th>\n",
       "      <th>Hondt</th>\n",
       "      <th>diff_subscribedVoters</th>\n",
       "      <th>diff_totalVoters</th>\n",
       "      <th>diff_blankVotes</th>\n",
       "      <th>diff_nullVotes</th>\n",
       "      <th>FinalMandates</th>\n",
       "    </tr>\n",
       "  </thead>\n",
       "  <tbody>\n",
       "    <tr>\n",
       "      <th>0</th>\n",
       "      <td>0.982968</td>\n",
       "      <td>-0.36868</td>\n",
       "      <td>6.758472</td>\n",
       "      <td>4.221354</td>\n",
       "      <td>1.405486</td>\n",
       "      <td>-0.128489</td>\n",
       "      <td>-0.380551</td>\n",
       "      <td>1.126269</td>\n",
       "      <td>-0.127891</td>\n",
       "      <td>3.217832</td>\n",
       "      <td>1.419284</td>\n",
       "      <td>14.757327</td>\n",
       "      <td>0.03196</td>\n",
       "      <td>0.021592</td>\n",
       "      <td>0.002177</td>\n",
       "      <td>0.026495</td>\n",
       "      <td>15.259962</td>\n",
       "    </tr>\n",
       "    <tr>\n",
       "      <th>1</th>\n",
       "      <td>0.982968</td>\n",
       "      <td>-0.36868</td>\n",
       "      <td>6.758472</td>\n",
       "      <td>4.221354</td>\n",
       "      <td>1.405486</td>\n",
       "      <td>-0.128489</td>\n",
       "      <td>-0.380551</td>\n",
       "      <td>0.799979</td>\n",
       "      <td>-0.127891</td>\n",
       "      <td>2.733495</td>\n",
       "      <td>1.211248</td>\n",
       "      <td>12.691673</td>\n",
       "      <td>0.03196</td>\n",
       "      <td>0.021592</td>\n",
       "      <td>0.002177</td>\n",
       "      <td>0.026495</td>\n",
       "      <td>11.040237</td>\n",
       "    </tr>\n",
       "    <tr>\n",
       "      <th>2</th>\n",
       "      <td>0.982968</td>\n",
       "      <td>-0.36868</td>\n",
       "      <td>6.758472</td>\n",
       "      <td>4.221354</td>\n",
       "      <td>1.405486</td>\n",
       "      <td>-0.128489</td>\n",
       "      <td>-0.380551</td>\n",
       "      <td>-1.484053</td>\n",
       "      <td>-0.127891</td>\n",
       "      <td>0.178549</td>\n",
       "      <td>0.112293</td>\n",
       "      <td>2.363404</td>\n",
       "      <td>0.03196</td>\n",
       "      <td>0.021592</td>\n",
       "      <td>0.002177</td>\n",
       "      <td>0.026495</td>\n",
       "      <td>2.600786</td>\n",
       "    </tr>\n",
       "  </tbody>\n",
       "</table>\n",
       "</div>"
      ],
      "text/plain": [
       "   territoryName  totalMandates  availableMandates  numParishes  \\\n",
       "0       0.982968       -0.36868           6.758472     4.221354   \n",
       "1       0.982968       -0.36868           6.758472     4.221354   \n",
       "2       0.982968       -0.36868           6.758472     4.221354   \n",
       "\n",
       "   numParishesApproved  votersPercentage  pre.votersPercentage     Party  \\\n",
       "0             1.405486         -0.128489             -0.380551  1.126269   \n",
       "1             1.405486         -0.128489             -0.380551  0.799979   \n",
       "2             1.405486         -0.128489             -0.380551 -1.484053   \n",
       "\n",
       "   Mandates  validVotesPercentage     Votes      Hondt  diff_subscribedVoters  \\\n",
       "0 -0.127891              3.217832  1.419284  14.757327                0.03196   \n",
       "1 -0.127891              2.733495  1.211248  12.691673                0.03196   \n",
       "2 -0.127891              0.178549  0.112293   2.363404                0.03196   \n",
       "\n",
       "   diff_totalVoters  diff_blankVotes  diff_nullVotes  FinalMandates  \n",
       "0          0.021592         0.002177        0.026495      15.259962  \n",
       "1          0.021592         0.002177        0.026495      11.040237  \n",
       "2          0.021592         0.002177        0.026495       2.600786  "
      ]
     },
     "execution_count": 6,
     "metadata": {},
     "output_type": "execute_result"
    }
   ],
   "source": [
    "data.head(3)"
   ]
  },
  {
   "cell_type": "code",
   "execution_count": 7,
   "id": "8df2fa81-27aa-4b39-a3c2-9ba66c587fe4",
   "metadata": {},
   "outputs": [],
   "source": [
    "data.sort_values(by = 'Hondt', inplace=True)"
   ]
  },
  {
   "cell_type": "code",
   "execution_count": 8,
   "id": "449f972a-02ed-4046-b1ff-702a53007638",
   "metadata": {},
   "outputs": [],
   "source": [
    "X = data.drop('FinalMandates', axis =1)\n",
    "y = pd.DataFrame(data['FinalMandates'])"
   ]
  },
  {
   "cell_type": "code",
   "execution_count": 9,
   "id": "bf0932df-73b8-49b7-8d0b-abdf75b63952",
   "metadata": {},
   "outputs": [],
   "source": [
    "X_train, X_test, y_train, y_test = train_test_split(X, y, test_size = 0.3, random_state = 42)"
   ]
  },
  {
   "cell_type": "code",
   "execution_count": 10,
   "id": "41e3c127-1a53-4354-ae09-4855a78b125f",
   "metadata": {},
   "outputs": [],
   "source": [
    "r2_dict = dict()\n",
    "def check_metrices(y_pred, model):\n",
    "    print(f\"Performance of {model} Model\\n{'_'*50}\\n\")\n",
    "    print(f'      MAE =  {mean_absolute_error(y_test, y_pred)}')\n",
    "    print(f'      MSE =  {mean_squared_error(y_test, y_pred)}')\n",
    "    r2 = r2_score(y_test, y_pred)\n",
    "    r2_dict[model] = r2\n",
    "    print(f' R2_Score =  {r2}')\n",
    "    print(f'Max Error =  {max_error(y_test, y_pred)}')"
   ]
  },
  {
   "cell_type": "code",
   "execution_count": 11,
   "id": "51d5625c-2ff3-4b12-b909-27001ef2b715",
   "metadata": {},
   "outputs": [],
   "source": [
    "def plot_prediction(preds):\n",
    "    plt.scatter(X_test.Hondt, y_test.FinalMandates)\n",
    "    plt.plot(X_test.Hondt, preds, 'r--')\n",
    "    plt.title('Regression Plot')\n",
    "    plt.xlabel('Hondt')\n",
    "    plt.ylabel('FinalMandates')\n",
    "    plt.show()"
   ]
  },
  {
   "cell_type": "markdown",
   "id": "0e13acb5-01bd-4c3a-8a2f-4c9da0b22036",
   "metadata": {},
   "source": [
    "<div class=\"alert alert-success\"><b>01. Linear Regression</b></div>"
   ]
  },
  {
   "cell_type": "code",
   "execution_count": 12,
   "id": "296821ce-0b13-46bf-8434-e93f8668b016",
   "metadata": {},
   "outputs": [
    {
     "name": "stdout",
     "output_type": "stream",
     "text": [
      "Performance of LinearRegression Model\n",
      "__________________________________________________\n",
      "\n",
      "      MAE =  0.02692116221091876\n",
      "      MSE =  0.006914322803711327\n",
      " R2_Score =  0.9924306943074878\n",
      "Max Error =  1.5376811797899457\n"
     ]
    },
    {
     "data": {
      "image/png": "[encoded data removed]",
      "text/plain": [
       "<Figure size 432x288 with 1 Axes>"
      ]
     },
     "metadata": {
      "needs_background": "light"
     },
     "output_type": "display_data"
    }
   ],
   "source": [
    "lr_model = LinearRegression().fit(X_train, y_train)\n",
    "lr_pred = lr_model.predict(X_test)\n",
    "check_metrices(lr_pred, 'LinearRegression')\n",
    "plot_prediction(lr_pred)"
   ]
  },
  {
   "cell_type": "markdown",
   "id": "9b34903f-6a3f-4f2b-b161-35f6ebd2a392",
   "metadata": {},
   "source": [
    "<div class=\"alert alert-success\"><b>02. Random forest Regressor</b></div>"
   ]
  },
  {
   "cell_type": "code",
   "execution_count": 13,
   "id": "b7e26834-dafb-47a0-ab4d-71a1e7312ca6",
   "metadata": {},
   "outputs": [
    {
     "name": "stdout",
     "output_type": "stream",
     "text": [
      "Performance of RandomForest Regressor Model\n",
      "__________________________________________________\n",
      "\n",
      "      MAE =  0.0003901571425365412\n",
      "      MSE =  3.135573046991207e-05\n",
      " R2_Score =  0.9999656739906602\n",
      "Max Error =  0.26191399125042214\n"
     ]
    },
    {
     "data": {
      "image/png": "[encoded data removed]",
      "text/plain": [
       "<Figure size 432x288 with 1 Axes>"
      ]
     },
     "metadata": {
      "needs_background": "light"
     },
     "output_type": "display_data"
    }
   ],
   "source": [
    "rf_model = RandomForestRegressor(random_state=42).fit(X_train, y_train)\n",
    "rf_pred = rf_model.predict(X_test)\n",
    "check_metrices(rf_pred, 'RandomForest Regressor')\n",
    "plot_prediction(rf_pred)"
   ]
  },
  {
   "cell_type": "markdown",
   "id": "bf52716a-609f-4f4f-84e5-2cc08f6d4d3a",
   "metadata": {},
   "source": [
    "<div class=\"alert alert-success\"><b>03. XGBoost Regressor</b></div>"
   ]
  },
  {
   "cell_type": "code",
   "execution_count": 14,
   "id": "83fb6b36-5833-4cb1-8a22-099668ca665b",
   "metadata": {},
   "outputs": [
    {
     "name": "stdout",
     "output_type": "stream",
     "text": [
      "Performance of XGB Regressor Model\n",
      "__________________________________________________\n",
      "\n",
      "      MAE =  0.0007277936829123716\n",
      "      MSE =  2.0490727218956733e-05\n",
      " R2_Score =  0.9999775682185248\n",
      "Max Error =  0.15234710638172305\n"
     ]
    },
    {
     "data": {
      "image/png": "[encoded data removed]",
      "text/plain": [
       "<Figure size 432x288 with 1 Axes>"
      ]
     },
     "metadata": {
      "needs_background": "light"
     },
     "output_type": "display_data"
    }
   ],
   "source": [
    "xgb_model = XGBRegressor(random_state=42).fit(X_train, y_train)\n",
    "xgb_pred = xgb_model.predict(X_test)\n",
    "check_metrices(xgb_pred, 'XGB Regressor')\n",
    "plot_prediction(xgb_pred)"
   ]
  },
  {
   "cell_type": "markdown",
   "id": "3b2c7fee-5e9b-4c00-a052-707f0acb2095",
   "metadata": {},
   "source": [
    "<div class=\"alert alert-success\"><b>04. Lasso Regressor</b></div>"
   ]
  },
  {
   "cell_type": "code",
   "execution_count": 15,
   "id": "b0ecf5c0-157d-41ec-a07c-d1c77c23d870",
   "metadata": {},
   "outputs": [
    {
     "name": "stdout",
     "output_type": "stream",
     "text": [
      "Performance of Lasso Regressor Model\n",
      "__________________________________________________\n",
      "\n",
      "      MAE =  0.024073466450956687\n",
      "      MSE =  0.007719544694952314\n",
      " R2_Score =  0.9915491950170823\n",
      "Max Error =  1.4324801386770414\n"
     ]
    },
    {
     "data": {
      "image/png": "[encoded data removed]",
      "text/plain": [
       "<Figure size 432x288 with 1 Axes>"
      ]
     },
     "metadata": {
      "needs_background": "light"
     },
     "output_type": "display_data"
    }
   ],
   "source": [
    "lasso_model = Lasso(random_state=42, alpha = 0.01).fit(X_train, y_train) # With Alpha value = 0.01\n",
    "lasso_pred = lasso_model.predict(X_test)\n",
    "check_metrices(lasso_pred, 'Lasso Regressor')\n",
    "plot_prediction(lasso_pred)"
   ]
  },
  {
   "cell_type": "markdown",
   "id": "d59b8677-337d-432f-9bac-027b018ef2ac",
   "metadata": {},
   "source": [
    "<div class=\"alert alert-success\"><b>05. CatBoost Regressor</b></div>"
   ]
  },
  {
   "cell_type": "code",
   "execution_count": 16,
   "id": "fd5f8cd6-1d54-4053-9daa-40e8a21bec3e",
   "metadata": {},
   "outputs": [
    {
     "name": "stdout",
     "output_type": "stream",
     "text": [
      "Performance of CatBoost Regressor Model\n",
      "__________________________________________________\n",
      "\n",
      "      MAE =  0.0024204440046390508\n",
      "      MSE =  6.901762623666964e-05\n",
      " R2_Score =  0.9999244444429357\n",
      "Max Error =  0.3611523307236517\n"
     ]
    },
    {
     "data": {
      "image/png": "[encoded data removed]",
      "text/plain": [
       "<Figure size 432x288 with 1 Axes>"
      ]
     },
     "metadata": {
      "needs_background": "light"
     },
     "output_type": "display_data"
    }
   ],
   "source": [
    "cat_model = CatBoostRegressor(random_state=42, silent=True).fit(X_train, y_train)\n",
    "cat_pred = cat_model.predict(X_test)\n",
    "check_metrices(cat_pred, 'CatBoost Regressor')\n",
    "plot_prediction(cat_pred)"
   ]
  },
  {
   "cell_type": "markdown",
   "id": "2dd8d1f6-1ae9-436c-a1a0-40b0342cc98c",
   "metadata": {},
   "source": [
    "<div class=\"alert alert-success\"><b>06. Support Vector Regressor</b></div>"
   ]
  },
  {
   "cell_type": "code",
   "execution_count": 17,
   "id": "d14f58d4-fa43-4ace-be57-f13eb8f85c57",
   "metadata": {},
   "outputs": [
    {
     "name": "stdout",
     "output_type": "stream",
     "text": [
      "Performance of SV Regressor Model\n",
      "__________________________________________________\n",
      "\n",
      "      MAE =  0.0750392031548659\n",
      "      MSE =  0.011621678598889778\n",
      " R2_Score =  0.9872774181257625\n",
      "Max Error =  1.838747571503058\n"
     ]
    },
    {
     "data": {
      "image/png": "[encoded data removed]",
      "text/plain": [
       "<Figure size 432x288 with 1 Axes>"
      ]
     },
     "metadata": {
      "needs_background": "light"
     },
     "output_type": "display_data"
    }
   ],
   "source": [
    "svm_model = SVR(kernel='linear').fit(X_train, y_train)\n",
    "svm_pred = svm_model.predict(X_test)\n",
    "check_metrices(svm_pred, 'SV Regressor')\n",
    "plot_prediction(svm_pred)"
   ]
  },
  {
   "cell_type": "markdown",
   "id": "ca32f0f5-f06e-49be-8314-53109cfab8ec",
   "metadata": {},
   "source": [
    "<div class=\"alert alert-success\"><b>07. DecisionTree Regressor</b></div>"
   ]
  },
  {
   "cell_type": "code",
   "execution_count": 18,
   "id": "9025a894-5a93-47cb-9496-b256074bf090",
   "metadata": {},
   "outputs": [
    {
     "name": "stdout",
     "output_type": "stream",
     "text": [
      "Performance of DecisionTree Regressor Model\n",
      "__________________________________________________\n",
      "\n",
      "      MAE =  0.00020168950505649097\n",
      "      MSE =  3.5869033077406596e-05\n",
      " R2_Score =  0.9999607331500184\n",
      "Max Error =  0.2910155458338022\n"
     ]
    },
    {
     "data": {
      "image/png": "[encoded data removed]",
      "text/plain": [
       "<Figure size 432x288 with 1 Axes>"
      ]
     },
     "metadata": {
      "needs_background": "light"
     },
     "output_type": "display_data"
    }
   ],
   "source": [
    "dtr_model = DecisionTreeRegressor(random_state = 42).fit(X_train, y_train)\n",
    "dtr_pred = dtr_model.predict(X_test)\n",
    "check_metrices(dtr_pred, 'DecisionTree Regressor')\n",
    "plot_prediction(dtr_pred)"
   ]
  },
  {
   "cell_type": "markdown",
   "id": "9bc46276-94f5-4652-a273-99ea0e77a25d",
   "metadata": {},
   "source": [
    "<div class=\"alert alert-success\"><b>08. KNN Regressor</b></div>"
   ]
  },
  {
   "cell_type": "code",
   "execution_count": 19,
   "id": "7a5b8c80-27f2-4b56-91c6-7575cfd1125f",
   "metadata": {},
   "outputs": [
    {
     "name": "stdout",
     "output_type": "stream",
     "text": [
      "Performance of KNN Regressor Model\n",
      "__________________________________________________\n",
      "\n",
      "      MAE =  0.0017121197983753689\n",
      "      MSE =  0.0009871157902902308\n",
      " R2_Score =  0.9989193762885062\n",
      "Max Error =  1.6878901658360537\n"
     ]
    },
    {
     "data": {
      "image/png": "[encoded data removed]",
      "text/plain": [
       "<Figure size 432x288 with 1 Axes>"
      ]
     },
     "metadata": {
      "needs_background": "light"
     },
     "output_type": "display_data"
    }
   ],
   "source": [
    "knn_model = KNeighborsRegressor().fit(X_train, y_train)\n",
    "knn_pred = knn_model.predict(X_test)\n",
    "check_metrices(knn_pred, 'KNN Regressor')\n",
    "plot_prediction(knn_pred)"
   ]
  },
  {
   "cell_type": "markdown",
   "id": "ddffb071-4d0d-48a9-921d-37abf0bec1dd",
   "metadata": {},
   "source": [
    "<div class=\"alert alert-success\"><b>09. AdaBoost Regressor</b></div>"
   ]
  },
  {
   "cell_type": "code",
   "execution_count": 20,
   "id": "1bc8d2d5-2ac2-48d1-84af-6f98aa12d862",
   "metadata": {},
   "outputs": [
    {
     "name": "stdout",
     "output_type": "stream",
     "text": [
      "Performance of AdaBoost Regressor Model\n",
      "__________________________________________________\n",
      "\n",
      "      MAE =  0.026299121219337862\n",
      "      MSE =  0.003922827028560995\n",
      " R2_Score =  0.9957055697570137\n",
      "Max Error =  0.58540006987185\n"
     ]
    },
    {
     "data": {
      "image/png": "[encoded data removed]",
      "text/plain": [
       "<Figure size 432x288 with 1 Axes>"
      ]
     },
     "metadata": {
      "needs_background": "light"
     },
     "output_type": "display_data"
    }
   ],
   "source": [
    "adb_model = AdaBoostRegressor(random_state=42).fit(X_train, y_train)\n",
    "adb_pred = adb_model.predict(X_test)\n",
    "check_metrices(adb_pred, 'AdaBoost Regressor')\n",
    "plot_prediction(adb_pred)"
   ]
  },
  {
   "cell_type": "markdown",
   "id": "48845a4f-e039-42a1-9244-d016c6fe6388",
   "metadata": {},
   "source": [
    "<div class=\"alert alert-success\"><b>10. Ridge Regressor</b></div>"
   ]
  },
  {
   "cell_type": "code",
   "execution_count": 21,
   "id": "5880e668-9fbb-416c-b873-239f745ceb46",
   "metadata": {},
   "outputs": [
    {
     "name": "stdout",
     "output_type": "stream",
     "text": [
      "Performance of Ridge Regressor Model\n",
      "__________________________________________________\n",
      "\n",
      "      MAE =  0.026927850997481937\n",
      "      MSE =  0.006914359011114753\n",
      " R2_Score =  0.9924306546702141\n",
      "Max Error =  1.5312952685547856\n"
     ]
    },
    {
     "data": {
      "image/png": "[encoded data removed]",
      "text/plain": [
       "<Figure size 432x288 with 1 Axes>"
      ]
     },
     "metadata": {
      "needs_background": "light"
     },
     "output_type": "display_data"
    }
   ],
   "source": [
    "rd_model = Ridge(random_state=42).fit(X_train, y_train)\n",
    "rd_pred = rd_model.predict(X_test)\n",
    "check_metrices(rd_pred, 'Ridge Regressor')\n",
    "plot_prediction(rd_pred)"
   ]
  },
  {
   "cell_type": "code",
   "execution_count": 22,
   "id": "5879d975-33ba-48a8-a4a1-af8e286e1075",
   "metadata": {},
   "outputs": [
    {
     "data": {
      "text/plain": [
       "{'LinearRegression': 0.9924306943074878,\n",
       " 'RandomForest Regressor': 0.9999656739906602,\n",
       " 'XGB Regressor': 0.9999775682185248,\n",
       " 'Lasso Regressor': 0.9915491950170823,\n",
       " 'CatBoost Regressor': 0.9999244444429357,\n",
       " 'SV Regressor': 0.9872774181257625,\n",
       " 'DecisionTree Regressor': 0.9999607331500184,\n",
       " 'KNN Regressor': 0.9989193762885062,\n",
       " 'AdaBoost Regressor': 0.9957055697570137,\n",
       " 'Ridge Regressor': 0.9924306546702141}"
      ]
     },
     "execution_count": 22,
     "metadata": {},
     "output_type": "execute_result"
    }
   ],
   "source": [
    "r2_dict"
   ]
  },
  {
   "cell_type": "code",
   "execution_count": 23,
   "id": "a22cfc9f-f4e0-4c44-a978-cb53e93cd0b4",
   "metadata": {},
   "outputs": [],
   "source": [
    "best_model = max(r2_dict, key = r2_dict.get)"
   ]
  },
  {
   "cell_type": "code",
   "execution_count": 24,
   "id": "cf59377d-fb58-4a53-bfd5-ba94a31dc752",
   "metadata": {},
   "outputs": [
    {
     "name": "stdout",
     "output_type": "stream",
     "text": [
      "Best model is XGB Regressor with R2_Score of 0.9999775682185248\n"
     ]
    }
   ],
   "source": [
    "print(f'Best model is {best_model} with R2_Score of {r2_dict.get(best_model)}')"
   ]
  },
  {
   "cell_type": "markdown",
   "id": "1a526445-c52f-4522-a2cb-92551f8c249e",
   "metadata": {},
   "source": [
    "#### **Conclusion**\n",
    "All the 10 models perform well, but it is XGB Regressor that has best performance."
   ]
  },
  {
   "cell_type": "markdown",
   "id": "021c7a8e-5b46-4830-8f55-3dc395e9ec37",
   "metadata": {
    "tags": []
   },
   "source": [
    "***\n",
    "### <div align=\"center\"> Hyperparameter Tuning</div>\n",
    "***"
   ]
  },
  {
   "cell_type": "markdown",
   "id": "b3e6cd9c-926f-4fd3-9a2c-bc9e8df3b5df",
   "metadata": {},
   "source": [
    "*Hyperparameter Tuning for XGB Regressor*"
   ]
  },
  {
   "cell_type": "code",
   "execution_count": 100,
   "id": "52e9ed3f-b183-48e2-9fc0-dfa1168980c5",
   "metadata": {},
   "outputs": [
    {
     "data": {
      "text/plain": [
       "Hondt                    99.107574\n",
       "Party                     0.671385\n",
       "numParishes               0.077148\n",
       "territoryName             0.070886\n",
       "validVotesPercentage      0.030727\n",
       "totalMandates             0.015464\n",
       "Votes                     0.008034\n",
       "availableMandates         0.003798\n",
       "diff_totalVoters          0.003449\n",
       "diff_subscribedVoters     0.002317\n",
       "diff_nullVotes            0.002255\n",
       "numParishesApproved       0.002193\n",
       "pre.votersPercentage      0.002001\n",
       "votersPercentage          0.001400\n",
       "diff_blankVotes           0.001057\n",
       "Mandates                  0.000310\n",
       "dtype: float32"
      ]
     },
     "execution_count": 100,
     "metadata": {},
     "output_type": "execute_result"
    }
   ],
   "source": [
    "# Feature importance of default XGB Regressor\n",
    "pd.Series(xgb_model.feature_importances_, index= X.columns).sort_values(ascending=False)*100"
   ]
  },
  {
   "cell_type": "code",
   "execution_count": null,
   "id": "af1adf14-42ec-4af4-9776-32334cc48cb8",
   "metadata": {},
   "outputs": [
    {
     "data": {
      "text/plain": [
       "<bound method XGBModel.get_params of XGBRegressor(base_score=0.5, booster='gbtree', colsample_bylevel=1,\n",
       "             colsample_bynode=1, colsample_bytree=1, enable_categorical=False,\n",
       "             gamma=0, gpu_id=-1, importance_type=None,\n",
       "             interaction_constraints='', learning_rate=0.300000012,\n",
       "             max_delta_step=0, max_depth=6, min_child_weight=1, missing=nan,\n",
       "             monotone_constraints='()', n_estimators=100, n_jobs=4,\n",
       "             num_parallel_tree=1, predictor='auto', random_state=42,\n",
       "             reg_alpha=0, reg_lambda=1, scale_pos_weight=1, subsample=1,\n",
       "             tree_method='exact', validate_parameters=1, verbosity=None)>"
      ]
     },
     "execution_count": 28,
     "metadata": {},
     "output_type": "execute_result"
    }
   ],
   "source": [
    "xgb_model.get_params"
   ]
  },
  {
   "cell_type": "code",
   "execution_count": 93,
   "id": "7b314b83-c1fe-4a63-b66c-7aff35bc7db3",
   "metadata": {},
   "outputs": [],
   "source": [
    "# Tuning Params\n",
    "params = {\n",
    " 'learning_rate' : [0.25,0.30, 0.35, 0.4, 0.45, 0.5],\n",
    " 'max_depth' : [ 3, 4, 5, 6, 8, 10, 12, 15],\n",
    " 'min_child_weight' : [ 1, 3, 5, 7, 9 ],\n",
    " 'gamma': [ 0.0, 0.1, 0.2 , 0.3, 0.4 ],\n",
    " 'colsample_bytree' : [ 0.3, 0.4, 0.5 , 0.7, 1],\n",
    " 'num_parallel_tree' : [1, 3, 5, 6, 9, 10],\n",
    " 'n_estimators': [int(x) for x in np.linspace(start = 100, stop = 500, num = 15)],\n",
    " 'random_state' : [36, 42, 48, 54]\n",
    "}"
   ]
  },
  {
   "cell_type": "code",
   "execution_count": 94,
   "id": "3e8e9779-69d2-4123-9f03-148a0cc5af7f",
   "metadata": {},
   "outputs": [],
   "source": [
    "random_model = RandomizedSearchCV(estimator = XGBRegressor(), param_distributions = params, n_jobs = -1, scoring = 'roc_auc')"
   ]
  },
  {
   "cell_type": "code",
   "execution_count": 95,
   "id": "1e25c663-f3ec-4d9c-a887-d339c926b60a",
   "metadata": {},
   "outputs": [
    {
     "data": {
      "text/plain": [
       "RandomizedSearchCV(estimator=XGBRegressor(base_score=None, booster=None,\n",
       "                                          colsample_bylevel=None,\n",
       "                                          colsample_bynode=None,\n",
       "                                          colsample_bytree=None,\n",
       "                                          enable_categorical=False, gamma=None,\n",
       "                                          gpu_id=None, importance_type=None,\n",
       "                                          interaction_constraints=None,\n",
       "                                          learning_rate=None,\n",
       "                                          max_delta_step=None, max_depth=None,\n",
       "                                          min_child_weight=None, missing=nan,\n",
       "                                          monotone_constraints=None,...\n",
       "                   param_distributions={'colsample_bytree': [0.3, 0.4, 0.5, 0.7,\n",
       "                                                             1],\n",
       "                                        'gamma': [0.0, 0.1, 0.2, 0.3, 0.4],\n",
       "                                        'learning_rate': [0.25, 0.3, 0.35, 0.4,\n",
       "                                                          0.45, 0.5],\n",
       "                                        'max_depth': [3, 4, 5, 6, 8, 10, 12,\n",
       "                                                      15],\n",
       "                                        'min_child_weight': [1, 3, 5, 7, 9],\n",
       "                                        'n_estimators': [100, 128, 157, 185,\n",
       "                                                         214, 242, 271, 300,\n",
       "                                                         328, 357, 385, 414,\n",
       "                                                         442, 471, 500],\n",
       "                                        'num_parallel_tree': [1, 3, 5, 6, 9,\n",
       "                                                              10],\n",
       "                                        'random_state': [36, 42, 48, 54]},\n",
       "                   scoring='roc_auc')"
      ]
     },
     "execution_count": 95,
     "metadata": {},
     "output_type": "execute_result"
    }
   ],
   "source": [
    "random_model.fit(X_train, y_train)"
   ]
  },
  {
   "cell_type": "code",
   "execution_count": 97,
   "id": "7dd1e162-8a08-415d-82ae-459efd5d6119",
   "metadata": {},
   "outputs": [
    {
     "data": {
      "text/plain": [
       "XGBRegressor(base_score=0.5, booster='gbtree', colsample_bylevel=1,\n",
       "             colsample_bynode=1, colsample_bytree=0.5, enable_categorical=False,\n",
       "             gamma=0.1, gpu_id=-1, importance_type=None,\n",
       "             interaction_constraints='', learning_rate=0.25, max_delta_step=0,\n",
       "             max_depth=5, min_child_weight=1, missing=nan,\n",
       "             monotone_constraints='()', n_estimators=242, n_jobs=4,\n",
       "             num_parallel_tree=10, predictor='auto', random_state=48,\n",
       "             reg_alpha=0, reg_lambda=1, scale_pos_weight=1, subsample=1,\n",
       "             tree_method='exact', validate_parameters=1, verbosity=None)"
      ]
     },
     "execution_count": 97,
     "metadata": {},
     "output_type": "execute_result"
    }
   ],
   "source": [
    "random_model.best_estimator_"
   ]
  },
  {
   "cell_type": "code",
   "execution_count": 98,
   "id": "8c80ff76-bc49-49d2-a5a5-f195f2fd69e2",
   "metadata": {},
   "outputs": [
    {
     "name": "stdout",
     "output_type": "stream",
     "text": [
      "Performance of HyperParameter Tuned XGB Regressor Model\n",
      "__________________________________________________\n",
      "\n",
      "      MAE =  0.009987440773905143\n",
      "      MSE =  0.0024302798608614607\n",
      " R2_Score =  0.9973395035627578\n",
      "Max Error =  2.540088894532346\n"
     ]
    },
    {
     "data": {
      "image/png": "[encoded data removed]",
      "text/plain": [
       "<Figure size 432x288 with 1 Axes>"
      ]
     },
     "metadata": {
      "needs_background": "light"
     },
     "output_type": "display_data"
    }
   ],
   "source": [
    "from numpy import nan\n",
    "best_model = XGBRegressor(base_score=0.5, booster='gbtree', colsample_bylevel=1,\n",
    "             colsample_bynode=1, colsample_bytree=0.5, enable_categorical=False,\n",
    "             gamma=0.1, gpu_id=-1, importance_type=None,\n",
    "             interaction_constraints='', learning_rate=0.25, max_delta_step=0,\n",
    "             max_depth=5, min_child_weight=1, missing=nan,\n",
    "             monotone_constraints='()', n_estimators=242, n_jobs=4,\n",
    "             num_parallel_tree=10, predictor='auto', random_state=48,\n",
    "             reg_alpha=0, reg_lambda=1, scale_pos_weight=1, subsample=1,\n",
    "             tree_method='exact', validate_parameters=1, verbosity=None).fit(X_train, y_train)\n",
    "best_pred = best_model.predict(X_test)\n",
    "check_metrices(best_pred, 'HyperParameter Tuned XGB Regressor')\n",
    "plot_prediction(best_pred)"
   ]
  },
  {
   "cell_type": "markdown",
   "id": "39eb6a94-52c4-42eb-bc63-70512228d2f9",
   "metadata": {
    "tags": []
   },
   "source": [
    "#### **Conclusion:**\n",
    "Hyperparameter tuning didn't improve from much for the existing model even after multiple tries. So the best set of params are with default one selected by the XGBoost Algorithm."
   ]
  },
  {
   "cell_type": "code",
   "execution_count": 101,
   "id": "5628df89-9c5e-4461-9c41-f92d3fb7b207",
   "metadata": {},
   "outputs": [
    {
     "name": "stdout",
     "output_type": "stream",
     "text": [
      "Best params for model :: \n",
      " <bound method XGBModel.get_params of XGBRegressor(base_score=0.5, booster='gbtree', colsample_bylevel=1,\n",
      "             colsample_bynode=1, colsample_bytree=1, enable_categorical=False,\n",
      "             gamma=0, gpu_id=-1, importance_type=None,\n",
      "             interaction_constraints='', learning_rate=0.300000012,\n",
      "             max_delta_step=0, max_depth=6, min_child_weight=1, missing=nan,\n",
      "             monotone_constraints='()', n_estimators=100, n_jobs=4,\n",
      "             num_parallel_tree=1, predictor='auto', random_state=42,\n",
      "             reg_alpha=0, reg_lambda=1, scale_pos_weight=1, subsample=1,\n",
      "             tree_method='exact', validate_parameters=1, verbosity=None)>\n"
     ]
    }
   ],
   "source": [
    "print(f'Best params for model :: \\n {xgb_model.get_params}')"
   ]
  },
  {
   "cell_type": "markdown",
   "id": "cda9d441-e23e-462b-9ed6-9c811e16f7a9",
   "metadata": {},
   "source": [
    "***"
   ]
  }
 ],
 "metadata": {
  "kernelspec": {
   "display_name": "Python 3",
   "language": "python",
   "name": "python3"
  },
  "language_info": {
   "codemirror_mode": {
    "name": "ipython",
    "version": 3
   },
   "file_extension": ".py",
   "mimetype": "text/x-python",
   "name": "python",
   "nbconvert_exporter": "python",
   "pygments_lexer": "ipython3",
   "version": "3.8.8"
  }
 },
 "nbformat": 4,
 "nbformat_minor": 5
}
