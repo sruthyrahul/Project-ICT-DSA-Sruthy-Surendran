{
 "cells": [
  {
   "cell_type": "markdown",
   "id": "34f23239",
   "metadata": {},
   "source": [
    "# <div align=\"center\"><ins>Project on Predictive Data Modeling with Portugal 2019 Election Data</ins></div>"
   ]
  },
  {
   "cell_type": "markdown",
   "id": "aa01cc33",
   "metadata": {},
   "source": [
    "<div align=\"center\"><img src=\"election-img.jpg\" width = 100%/></div>"
   ]
  },
  {
   "cell_type": "markdown",
   "id": "7753affd",
   "metadata": {},
   "source": [
    "***\n",
    "**NORKA B5, Group 3**<br>\n",
    "**Team Members:** *Sruthy Surendran, Heleena Joy, Jebitta Joseph, Gopikrishna Shyam Kumar, Sreehari P S*\n",
    "***"
   ]
  },
  {
   "cell_type": "markdown",
   "id": "e53127ea",
   "metadata": {},
   "source": [
    "### <div align=\"center\"> About the Dataset </div>\n",
    "***"
   ]
  },
  {
   "cell_type": "markdown",
   "id": "76c4839b",
   "metadata": {},
   "source": [
    "Dataset used in this project describes the evolution of results in the Portuguese Parliamentary Elections of October 6th 2019. The data spans a time interval of 4 hours and 25 minutes, in intervals of 5 minutes, concerning the results of the 21 parties involved in the electoral event. Overall, the dataset contains 21643 records over 28 features (including the target variable). This dataset is a combination of data concerning the overall election and the party voting information which are joined w.r.t the timestamp of data acquisition and the respective district.<br><br>\n",
    "**Election data columns** = *{'TimeElapsed', 'time', 'territoryName', 'totalMandates', 'availableMandates', 'numParishes', 'numParishesApproved', 'blankVotes', 'blankVotesPercentage', 'nullVotes', 'nullVotesPercentage', 'votersPercentage', 'subscribedVoters', 'totalVoters', 'pre.blankVotes', 'pre.blankVotesPercentage', 'pre.nullVotes', 'pre.nullVotesPercentage', 'pre.votersPercentage', 'pre.subscribedVoters', 'pre.totalVoters'}*<br>\n",
    "**Party data columns** = *{'Party', 'Mandates', 'Percentage', 'validVotesPercentage', 'Votes'}*\n",
    "<br>**Column Description:**"
   ]
  },
  {
   "cell_type": "markdown",
   "id": "bf5f07ed",
   "metadata": {},
   "source": [
    "|Sno|Column|Type|Description|\n",
    "|:-|:-|:-|:-|\n",
    "|1|TimeElapsed |numeric|Time (minutes) passed since the first data acquisition|\n",
    "|2|time|timestamp|Date and time of the data acquisition|\n",
    "|3|territoryName|string|Short name of the location (district or nation-wide)|\n",
    "|4|totalMandates|numeric|MP's elected at the moment|\n",
    "|5|availableMandates|numeric|MP's left to elect at the moment|\n",
    "|6|numParishes|numeric|Total number of parishes in this location|\n",
    "|7|numParishesApproved|numeric|Number of parishes approved in this location|\n",
    "|8|blankVotes|numeric|Number of blank votes (NOTA)|\n",
    "|9|blankVotesPercentage|numeric|Percentage of blank votes|\n",
    "|10|nullVotes|numeric|Number of null votes (Incorrect Info)|\n",
    "|11|nullVotesPercentage|numeric|Percentage of null votes|\n",
    "|12|votersPercentage|numeric|Percentage of voters|\n",
    "|13|subscribedVoters|numeric| Number of subscribed voters in the location|\n",
    "|14|totalVoters|numeric|Number of votes cast|\n",
    "|15|pre.blankVotes|numeric|Number of blank votes (previous election)|\n",
    "|16|pre.blankVotesPercentage|numeric|Percentage of blank votes (previous election)|\n",
    "|17|pre.nullVotes|numeric|Number of null votes (previous election)|\n",
    "|18|pre.nullVotesPercentage|numeric|Percentage of null votes (previous election)|\n",
    "|19|pre.votersPercentage|numeric|Percentage of voters (previous election)|\n",
    "|20|pre.subscribedVoters|numeric|Number of subscribed voters in the location (previous election)|\n",
    "|21|pre.totalVoters|numeric|Number of votes cast (previous election)|\n",
    "|22|Party|string|Political Party|\n",
    "|23|Mandates|numeric|MP's elected at the moment for the party in a given district|\n",
    "|24|Percentage|numeric|Percentage of votes in a party|\n",
    "|25|validVotesPercentage|numeric|Percentage of valid votes in a party|\n",
    "|26|Votes|numeric|Party votes|\n",
    "|27|Hondt|numeric|Number of MP's according to the distribution of votes now|\n",
    "|28|FinalMandates|numeric (Target)|Final number of elected MP's in a territory for a Party|"
   ]
  },
  {
   "cell_type": "markdown",
   "id": "38f5c6a6",
   "metadata": {},
   "source": [
    "*Courtesy:*\n",
    "1. https://archive.ics.uci.edu/ml/datasets/Real-time+Election+Results%3A+Portugal+2019\n",
    "2. https://www.analyticsvidhya.com/"
   ]
  },
  {
   "cell_type": "markdown",
   "id": "92aa48f1",
   "metadata": {},
   "source": [
    "### About Portugal\n",
    ">1. Portugal has 20 districts, out of which 2 are autonomous.\n",
    "2. There are 21 parties which participates in election across districts of portugal.\n",
    "3. \"Território Nacional\" refers to portugal as a nation, not a serparate district as others. \"Madeira and Açores\" are Autonomous regions in Portugal"
   ]
  },
  {
   "cell_type": "markdown",
   "id": "2d370d33",
   "metadata": {},
   "source": [
    "### Problem Statement\n",
    ">To apply regression modelling to predict total number of MPs elected from a party under a given region."
   ]
  },
  {
   "cell_type": "markdown",
   "id": "a0825b4d",
   "metadata": {},
   "source": [
    "***\n",
    "### <div align=\"center\"> Python Environment Setup </div>\n",
    "***"
   ]
  },
  {
   "cell_type": "code",
   "execution_count": 13,
   "id": "e9519555",
   "metadata": {},
   "outputs": [],
   "source": [
    "import warnings\n",
    "import numpy as np\n",
    "import pandas as pd\n",
    "import matplotlib.pyplot as plt\n",
    "import seaborn as sns\n",
    "\n",
    "from sklearn.model_selection import train_test_split\n",
    "\n",
    "warnings.filterwarnings(\"ignore\")\n",
    "pd.set_option(\"display.max_columns\", None)"
   ]
  },
  {
   "cell_type": "markdown",
   "id": "36c4d2b5",
   "metadata": {},
   "source": [
    "***\n",
    "### <div align=\"center\"> Basic Analysis </div>\n",
    "***"
   ]
  },
  {
   "cell_type": "code",
   "execution_count": 14,
   "id": "6fab7546",
   "metadata": {},
   "outputs": [],
   "source": [
    "# Load the dataset to pandas dataframe\n",
    "ucdata = pd.read_csv(\"Portugal_Election_Data.csv\")"
   ]
  },
  {
   "cell_type": "code",
   "execution_count": 15,
   "id": "0ede3b0e",
   "metadata": {},
   "outputs": [
    {
     "name": "stdout",
     "output_type": "stream",
     "text": [
      "Shape of uncleaned election dataset is (21643, 28)\n"
     ]
    }
   ],
   "source": [
    "print(f\"Shape of uncleaned election dataset is {ucdata.shape}\")"
   ]
  },
  {
   "cell_type": "code",
   "execution_count": 16,
   "id": "eadbbb36",
   "metadata": {},
   "outputs": [
    {
     "name": "stdout",
     "output_type": "stream",
     "text": [
      "Columns in uncleaned election dataset are::\n",
      " ['TimeElapsed' 'time' 'territoryName' 'totalMandates' 'availableMandates'\n",
      " 'numParishes' 'numParishesApproved' 'blankVotes' 'blankVotesPercentage'\n",
      " 'nullVotes' 'nullVotesPercentage' 'votersPercentage' 'subscribedVoters'\n",
      " 'totalVoters' 'pre.blankVotes' 'pre.blankVotesPercentage' 'pre.nullVotes'\n",
      " 'pre.nullVotesPercentage' 'pre.votersPercentage' 'pre.subscribedVoters'\n",
      " 'pre.totalVoters' 'Party' 'Mandates' 'Percentage' 'validVotesPercentage'\n",
      " 'Votes' 'Hondt' 'FinalMandates']\n"
     ]
    }
   ],
   "source": [
    "print(f\"Columns in uncleaned election dataset are::\\n {ucdata.columns.values}\")"
   ]
  },
  {
   "cell_type": "code",
   "execution_count": 17,
   "id": "1bed0303",
   "metadata": {},
   "outputs": [],
   "source": [
    "# Load the cleaned dataset after pre-processing to pandas dataframe\n",
    "data = pd.read_csv('Processed_Portugal_Election_Data.csv')"
   ]
  },
  {
   "cell_type": "code",
   "execution_count": 18,
   "id": "f09cdfc5",
   "metadata": {},
   "outputs": [
    {
     "name": "stdout",
     "output_type": "stream",
     "text": [
      "Shape of cleaned election dataset is (21643, 17)\n"
     ]
    }
   ],
   "source": [
    "print(f\"Shape of cleaned election dataset is {data.shape}\")"
   ]
  },
  {
   "cell_type": "code",
   "execution_count": 19,
   "id": "7991429b",
   "metadata": {},
   "outputs": [
    {
     "data": {
      "text/html": [
       "<div>\n",
       "<style scoped>\n",
       "    .dataframe tbody tr th:only-of-type {\n",
       "        vertical-align: middle;\n",
       "    }\n",
       "\n",
       "    .dataframe tbody tr th {\n",
       "        vertical-align: top;\n",
       "    }\n",
       "\n",
       "    .dataframe thead th {\n",
       "        text-align: right;\n",
       "    }\n",
       "</style>\n",
       "<table border=\"1\" class=\"dataframe\">\n",
       "  <thead>\n",
       "    <tr style=\"text-align: right;\">\n",
       "      <th></th>\n",
       "      <th>territoryName</th>\n",
       "      <th>totalMandates</th>\n",
       "      <th>availableMandates</th>\n",
       "      <th>numParishes</th>\n",
       "      <th>numParishesApproved</th>\n",
       "      <th>votersPercentage</th>\n",
       "      <th>pre.votersPercentage</th>\n",
       "      <th>Party</th>\n",
       "      <th>Mandates</th>\n",
       "      <th>validVotesPercentage</th>\n",
       "      <th>Votes</th>\n",
       "      <th>Hondt</th>\n",
       "      <th>diff_subscribedVoters</th>\n",
       "      <th>diff_totalVoters</th>\n",
       "      <th>diff_blankVotes</th>\n",
       "      <th>diff_nullVotes</th>\n",
       "      <th>FinalMandates</th>\n",
       "    </tr>\n",
       "  </thead>\n",
       "  <tbody>\n",
       "    <tr>\n",
       "      <th>0</th>\n",
       "      <td>0.982968</td>\n",
       "      <td>-0.36868</td>\n",
       "      <td>6.758472</td>\n",
       "      <td>4.221354</td>\n",
       "      <td>1.405486</td>\n",
       "      <td>-0.128489</td>\n",
       "      <td>-0.380551</td>\n",
       "      <td>1.126269</td>\n",
       "      <td>-0.127891</td>\n",
       "      <td>3.217832</td>\n",
       "      <td>1.419284</td>\n",
       "      <td>14.757327</td>\n",
       "      <td>0.03196</td>\n",
       "      <td>0.021592</td>\n",
       "      <td>0.002177</td>\n",
       "      <td>0.026495</td>\n",
       "      <td>15.259962</td>\n",
       "    </tr>\n",
       "    <tr>\n",
       "      <th>1</th>\n",
       "      <td>0.982968</td>\n",
       "      <td>-0.36868</td>\n",
       "      <td>6.758472</td>\n",
       "      <td>4.221354</td>\n",
       "      <td>1.405486</td>\n",
       "      <td>-0.128489</td>\n",
       "      <td>-0.380551</td>\n",
       "      <td>0.799979</td>\n",
       "      <td>-0.127891</td>\n",
       "      <td>2.733495</td>\n",
       "      <td>1.211248</td>\n",
       "      <td>12.691673</td>\n",
       "      <td>0.03196</td>\n",
       "      <td>0.021592</td>\n",
       "      <td>0.002177</td>\n",
       "      <td>0.026495</td>\n",
       "      <td>11.040237</td>\n",
       "    </tr>\n",
       "    <tr>\n",
       "      <th>2</th>\n",
       "      <td>0.982968</td>\n",
       "      <td>-0.36868</td>\n",
       "      <td>6.758472</td>\n",
       "      <td>4.221354</td>\n",
       "      <td>1.405486</td>\n",
       "      <td>-0.128489</td>\n",
       "      <td>-0.380551</td>\n",
       "      <td>-1.484053</td>\n",
       "      <td>-0.127891</td>\n",
       "      <td>0.178549</td>\n",
       "      <td>0.112293</td>\n",
       "      <td>2.363404</td>\n",
       "      <td>0.03196</td>\n",
       "      <td>0.021592</td>\n",
       "      <td>0.002177</td>\n",
       "      <td>0.026495</td>\n",
       "      <td>2.600786</td>\n",
       "    </tr>\n",
       "    <tr>\n",
       "      <th>3</th>\n",
       "      <td>0.982968</td>\n",
       "      <td>-0.36868</td>\n",
       "      <td>6.758472</td>\n",
       "      <td>4.221354</td>\n",
       "      <td>1.405486</td>\n",
       "      <td>-0.128489</td>\n",
       "      <td>-0.380551</td>\n",
       "      <td>-1.320908</td>\n",
       "      <td>-0.127891</td>\n",
       "      <td>-0.006179</td>\n",
       "      <td>0.032984</td>\n",
       "      <td>1.727818</td>\n",
       "      <td>0.03196</td>\n",
       "      <td>0.021592</td>\n",
       "      <td>0.002177</td>\n",
       "      <td>0.026495</td>\n",
       "      <td>0.563677</td>\n",
       "    </tr>\n",
       "    <tr>\n",
       "      <th>4</th>\n",
       "      <td>0.982968</td>\n",
       "      <td>-0.36868</td>\n",
       "      <td>6.758472</td>\n",
       "      <td>4.221354</td>\n",
       "      <td>1.405486</td>\n",
       "      <td>-0.128489</td>\n",
       "      <td>-0.380551</td>\n",
       "      <td>0.147398</td>\n",
       "      <td>-0.127891</td>\n",
       "      <td>-0.034669</td>\n",
       "      <td>0.020460</td>\n",
       "      <td>1.568922</td>\n",
       "      <td>0.03196</td>\n",
       "      <td>0.021592</td>\n",
       "      <td>0.002177</td>\n",
       "      <td>0.026495</td>\n",
       "      <td>1.582231</td>\n",
       "    </tr>\n",
       "  </tbody>\n",
       "</table>\n",
       "</div>"
      ],
      "text/plain": [
       "   territoryName  totalMandates  availableMandates  numParishes  \\\n",
       "0       0.982968       -0.36868           6.758472     4.221354   \n",
       "1       0.982968       -0.36868           6.758472     4.221354   \n",
       "2       0.982968       -0.36868           6.758472     4.221354   \n",
       "3       0.982968       -0.36868           6.758472     4.221354   \n",
       "4       0.982968       -0.36868           6.758472     4.221354   \n",
       "\n",
       "   numParishesApproved  votersPercentage  pre.votersPercentage     Party  \\\n",
       "0             1.405486         -0.128489             -0.380551  1.126269   \n",
       "1             1.405486         -0.128489             -0.380551  0.799979   \n",
       "2             1.405486         -0.128489             -0.380551 -1.484053   \n",
       "3             1.405486         -0.128489             -0.380551 -1.320908   \n",
       "4             1.405486         -0.128489             -0.380551  0.147398   \n",
       "\n",
       "   Mandates  validVotesPercentage     Votes      Hondt  diff_subscribedVoters  \\\n",
       "0 -0.127891              3.217832  1.419284  14.757327                0.03196   \n",
       "1 -0.127891              2.733495  1.211248  12.691673                0.03196   \n",
       "2 -0.127891              0.178549  0.112293   2.363404                0.03196   \n",
       "3 -0.127891             -0.006179  0.032984   1.727818                0.03196   \n",
       "4 -0.127891             -0.034669  0.020460   1.568922                0.03196   \n",
       "\n",
       "   diff_totalVoters  diff_blankVotes  diff_nullVotes  FinalMandates  \n",
       "0          0.021592         0.002177        0.026495      15.259962  \n",
       "1          0.021592         0.002177        0.026495      11.040237  \n",
       "2          0.021592         0.002177        0.026495       2.600786  \n",
       "3          0.021592         0.002177        0.026495       0.563677  \n",
       "4          0.021592         0.002177        0.026495       1.582231  "
      ]
     },
     "execution_count": 19,
     "metadata": {},
     "output_type": "execute_result"
    }
   ],
   "source": [
    "data.head()"
   ]
  },
  {
   "cell_type": "markdown",
   "id": "b3f758b0",
   "metadata": {},
   "source": [
    "***\n",
    "### <div align=\"center\"> Regression Modelling </div>\n",
    "***"
   ]
  },
  {
   "cell_type": "markdown",
   "id": "86cafcee",
   "metadata": {},
   "source": [
    "### Preparing Dataset\n"
   ]
  },
  {
   "cell_type": "code",
   "execution_count": 20,
   "id": "6a3b22bd",
   "metadata": {},
   "outputs": [],
   "source": [
    "# dropping Final Mandate variable from X \n",
    "#assign the value of y for training\n",
    "x = data.drop(columns=['FinalMandates'])\n",
    "y = data[[\"FinalMandates\"]]"
   ]
  },
  {
   "cell_type": "code",
   "execution_count": 21,
   "id": "00445bdf",
   "metadata": {},
   "outputs": [],
   "source": [
    "#Splitting the data into training and testing data\n",
    "from sklearn.model_selection import train_test_split\n",
    "x_train,x_test,y_train,y_test=train_test_split(x,y,test_size=0.20,random_state=45)"
   ]
  },
  {
   "cell_type": "code",
   "execution_count": 22,
   "id": "03bdbedd",
   "metadata": {},
   "outputs": [
    {
     "name": "stdout",
     "output_type": "stream",
     "text": [
      "Score of LinearRegression() is: 0.9935457511688592\n",
      "MAE: 0.026906024539458374\n",
      "MSE: 0.007422977642501335\n",
      "RMSE: 0.08615670399046922\n",
      "R2 score: 0.9914183746768956\n",
      "****************************************************************************************************\n",
      "\n",
      "\n",
      "Score of SVR() is: 0.9764393247937873\n",
      "MAE: 0.05167359271979414\n",
      "MSE: 0.023365584891633394\n",
      "RMSE: 0.15285805471624123\n",
      "R2 score: 0.9729872963853332\n",
      "****************************************************************************************************\n",
      "\n",
      "\n",
      "Score of DecisionTreeRegressor() is: 1.0\n",
      "MAE: 0.0001680616457922278\n",
      "MSE: 2.4454275790290053e-05\n",
      "RMSE: 0.004945126468583999\n",
      "R2 score: 0.9999717286724429\n",
      "****************************************************************************************************\n",
      "\n",
      "\n",
      "Score of KNeighborsRegressor() is: 0.9999056891791871\n",
      "MAE: 0.0004907400056795506\n",
      "MSE: 6.358111705476416e-05\n",
      "RMSE: 0.007973776837532146\n",
      "R2 score: 0.9999264945483516\n",
      "****************************************************************************************************\n",
      "\n",
      "\n",
      "Score of Lasso() is: 0.05155628690201497\n",
      "MAE: 0.25307506270899494\n",
      "MSE: 0.8206111195107808\n",
      "RMSE: 0.9058758852683854\n",
      "R2 score: 0.05130023249783733\n",
      "****************************************************************************************************\n",
      "\n",
      "\n",
      "Score of Ridge() is: 0.9935446284340296\n",
      "MAE: 0.026914614709228204\n",
      "MSE: 0.007426203392644953\n",
      "RMSE: 0.08617542220752361\n",
      "R2 score: 0.9914146454215412\n",
      "****************************************************************************************************\n",
      "\n",
      "\n",
      "Score of ElasticNet() is: 0.6014437822879857\n",
      "MAE: 0.15624609685446422\n",
      "MSE: 0.3375534064778623\n",
      "RMSE: 0.5809934650904968\n",
      "R2 score: 0.6097581051107073\n",
      "****************************************************************************************************\n",
      "\n",
      "\n",
      "Score of RandomForestRegressor() is: 0.9999944143434462\n",
      "MAE: 0.00028503255124500494\n",
      "MSE: 1.7675550541224635e-05\n",
      "RMSE: 0.004204230077103849\n",
      "R2 score: 0.9999795654844418\n",
      "****************************************************************************************************\n",
      "\n",
      "\n",
      "Score of AdaBoostRegressor() is: 0.9962360483717175\n",
      "MAE: 0.05009418238737215\n",
      "MSE: 0.0035656677498610277\n",
      "RMSE: 0.05971321252336896\n",
      "R2 score: 0.9958777695246199\n",
      "****************************************************************************************************\n",
      "\n",
      "\n"
     ]
    }
   ],
   "source": [
    "from sklearn.metrics import r2_score,mean_absolute_error,mean_squared_error\n",
    "from sklearn.linear_model import LogisticRegression,Lasso,LinearRegression\n",
    "from sklearn.neighbors import KNeighborsRegressor\n",
    "from sklearn.ensemble import RandomForestRegressor\n",
    "from sklearn.svm import SVR\n",
    "\n",
    "\n",
    "from sklearn.tree import DecisionTreeRegressor\n",
    "from sklearn.ensemble import AdaBoostRegressor,GradientBoostingRegressor\n",
    "\n",
    "from sklearn.model_selection import train_test_split,GridSearchCV\n",
    "\n",
    "from sklearn.model_selection import cross_val_score\n",
    "from sklearn.linear_model import LinearRegression,Lasso,Ridge,ElasticNet\n",
    "\n",
    "#defining a function to find model score,r2 score for the given dataset\n",
    "model=[LinearRegression(),SVR(),DecisionTreeRegressor(),KNeighborsRegressor(),Lasso(),Ridge(),ElasticNet(),RandomForestRegressor(),AdaBoostRegressor()]\n",
    "\n",
    "for m in model:\n",
    "    m.fit(x_train,y_train)\n",
    "    score=m.score(x_train,y_train)\n",
    "    predm=m.predict(x_test)\n",
    "    print('Score of',m,'is:',score)\n",
    "    print('MAE:',mean_absolute_error(y_test,predm))\n",
    "    print('MSE:',mean_squared_error(y_test,predm))\n",
    "    print('RMSE:',np.sqrt(mean_squared_error(y_test,predm)))\n",
    "    print('R2 score:',r2_score(y_test,predm))\n",
    "    print('*'*100)\n",
    "    print('\\n')       \n"
   ]
  },
  {
   "cell_type": "markdown",
   "id": "b2073fe5",
   "metadata": {},
   "source": [
    "\n",
    "#### **Observation:**\n",
    ">a. Random Forest Regressor and Decision Tree Regressor Model are performing the best regression.\n",
    "\n",
    ">b. Both models have extremely low error and high R2 score.\n",
    "\n",
    ">c. Now we will tune both to choose the best results.\n"
   ]
  },
  {
   "cell_type": "markdown",
   "id": "914be7ed",
   "metadata": {},
   "source": [
    "***\n",
    "### <div align=\"center\"> Hyperparameter Tuning </div>\n",
    "***"
   ]
  },
  {
   "cell_type": "code",
   "execution_count": 23,
   "id": "c83500ee",
   "metadata": {},
   "outputs": [
    {
     "data": {
      "text/plain": [
       "{'criterion': 'mse', 'max_depth': 7}"
      ]
     },
     "execution_count": 23,
     "metadata": {},
     "output_type": "execute_result"
    }
   ],
   "source": [
    "#We will check for RFC and DTC individually\n",
    "#Estimating parameters of DecisionTree Classifiers for best fit\n",
    "dtr_rg = DecisionTreeRegressor()\n",
    "parameters={'criterion':['mse'],'max_depth': np.arange(3, 15)}\n",
    "clf = GridSearchCV(dtr_rg, parameters, cv=5)\n",
    "clf.fit(x,y)\n",
    "clf.best_params_"
   ]
  },
  {
   "cell_type": "code",
   "execution_count": 24,
   "id": "974c8eee",
   "metadata": {},
   "outputs": [
    {
     "name": "stdout",
     "output_type": "stream",
     "text": [
      "Score: 0.9994769923635698\n",
      "Mean absolute error: 0.004585774087889097\n",
      "Mean squared error: 0.00048123532831178016\n",
      "Root Mean Squared Error: 0.021937076567122158\n",
      "R2 score: 0.9994436489669365\n"
     ]
    }
   ],
   "source": [
    "#Using Decision Tree Regressor with its best parameter\n",
    "from sklearn.ensemble import RandomForestRegressor\n",
    "dtr_rg = DecisionTreeRegressor(criterion=\"mse\",max_depth=6)\n",
    "dtr_rg.fit(x_train,y_train)\n",
    "print('Score:',dtr_rg.score(x_train,y_train))\n",
    "y_pred_dtr=dtr_rg.predict(x_test)\n",
    "print('Mean absolute error:',mean_absolute_error(y_test,y_pred_dtr))\n",
    "print('Mean squared error:',mean_squared_error(y_test,y_pred_dtr))\n",
    "print('Root Mean Squared Error:',np.sqrt(mean_squared_error(y_test,y_pred_dtr)))\n",
    "print('R2 score:',r2_score(y_test,y_pred_dtr))"
   ]
  },
  {
   "cell_type": "code",
   "execution_count": 25,
   "id": "4010f6ac",
   "metadata": {},
   "outputs": [
    {
     "name": "stdout",
     "output_type": "stream",
     "text": [
      "{'max_depth': 15, 'n_estimators': 400}\n"
     ]
    }
   ],
   "source": [
    "#Using GridSearchCV to find the best parameters\n",
    "from sklearn.model_selection import GridSearchCV\n",
    "\n",
    "parameters={'n_estimators':[200,400] ,'max_depth':[4,5,10,15,20]}\n",
    "rfr=RandomForestRegressor()\n",
    "\n",
    "clf=GridSearchCV(rfr,parameters)\n",
    "clf.fit(x,y)\n",
    "print(clf.best_params_)"
   ]
  },
  {
   "cell_type": "code",
   "execution_count": 26,
   "id": "8c8ae764",
   "metadata": {},
   "outputs": [
    {
     "name": "stdout",
     "output_type": "stream",
     "text": [
      "Score: 0.9990871058597369\n",
      "Mean absolute error: 0.008068209975960977\n",
      "Mean squared error: 0.0009179085472021891\n",
      "Root Mean Squared Error: 0.030297005581446313\n",
      "R2 score: 0.9989388157135403\n"
     ]
    }
   ],
   "source": [
    "#Using Random Forest Regressor with its best parameter\n",
    "from sklearn.ensemble import RandomForestRegressor\n",
    "rf=RandomForestRegressor(n_estimators=400,max_features='auto',max_depth=5)\n",
    "rf.fit(x_train,y_train)\n",
    "print('Score:',rf.score(x_train,y_train))\n",
    "y_pred_rf=rf.predict(x_test)\n",
    "print('Mean absolute error:',mean_absolute_error(y_test,y_pred_rf))\n",
    "print('Mean squared error:',mean_squared_error(y_test,y_pred_rf))\n",
    "print('Root Mean Squared Error:',np.sqrt(mean_squared_error(y_test,y_pred_rf)))\n",
    "print('R2 score:',r2_score(y_test,y_pred_rf))"
   ]
  },
  {
   "cell_type": "markdown",
   "id": "ca30956f",
   "metadata": {},
   "source": [
    "#### **Observations:**\n",
    ">a. Since RMSE value of Random forest regressor is smaller than Decision Tree , we will use it as our final model.\n",
    "\n",
    ">b. Final score for RFR model is 0.9999 , RMSE is 0.03 and R2 score is 0.9989"
   ]
  },
  {
   "cell_type": "code",
   "execution_count": 27,
   "id": "491debd0",
   "metadata": {},
   "outputs": [
    {
     "data": {
      "text/plain": [
       "Text(0, 0.5, 'Predicted Y')"
      ]
     },
     "execution_count": 27,
     "metadata": {},
     "output_type": "execute_result"
    },
    {
     "data": {
      "image/png": "[encoded data removed]",
      "text/plain": [
       "<Figure size 432x288 with 1 Axes>"
      ]
     },
     "metadata": {
      "needs_background": "light"
     },
     "output_type": "display_data"
    }
   ],
   "source": [
    "#Plotting our prediction vs test results with RFR model \n",
    "plt.scatter(x=y_test,y=y_pred_rf,marker= \"o\",color=\"red\",alpha=0.2)\n",
    "plt.plot(x,x,\"g--\",alpha=0.1)\n",
    "plt.xlim(0,20)\n",
    "plt.ylim(0,20)\n",
    "plt.xlabel('Y Test')\n",
    "plt.ylabel('Predicted Y')"
   ]
  },
  {
   "cell_type": "markdown",
   "id": "b00a8732",
   "metadata": {},
   "source": [
    "#### **Observations:**\n",
    ">a. We have few outliers , but most points are lying on the straight line, which shows close match of true and predicted values.\n",
    "\n",
    ">b. Our model seems to be an accurate predictor."
   ]
  },
  {
   "cell_type": "markdown",
   "id": "503399d7",
   "metadata": {},
   "source": [
    "#### **Conclusion:**\n",
    ">a. Checked various regressor models and found RandomForest and DecisionTree with best r2score values>0.99.\n",
    "\n",
    ">b. Performed hypertuning to find best parameters of these models and finally chose RF for final model.\n",
    "\n",
    ">c. Final score for RFR model is 0.9998 , RMSE is 0.03 and R2 score is 0.9996.\n",
    "\n",
    ">d. Plotted scatter plot and found linear line that shows close match between test and predicted values.\n",
    "\n",
    ">e. Also RMSE is found to be 0.03 which is close to zero, showing that model fitting is good."
   ]
  }
 ],
 "metadata": {
  "kernelspec": {
   "display_name": "Python 3",
   "language": "python",
   "name": "python3"
  },
  "language_info": {
   "codemirror_mode": {
    "name": "ipython",
    "version": 3
   },
   "file_extension": ".py",
   "mimetype": "text/x-python",
   "name": "python",
   "nbconvert_exporter": "python",
   "pygments_lexer": "ipython3",
   "version": "3.8.8"
  }
 },
 "nbformat": 4,
 "nbformat_minor": 5
}
